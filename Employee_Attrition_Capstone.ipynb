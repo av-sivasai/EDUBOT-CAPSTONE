{
 "cells": [
  {
   "cell_type": "markdown",
   "metadata": {},
   "source": [
    "# 🎓 Capstone Project: Employee Attrition Prediction\n",
    "Using Python, scikit-learn, and Streamlit"
   ]
  },
  {
   "cell_type": "code",
   "execution_count": null,
   "metadata": {},
   "outputs": [],
   "source": [
    "# 📌 Import Libraries\n",
    "import pandas as pd\n",
    "import numpy as np\n",
    "import seaborn as sns\n",
    "import matplotlib.pyplot as plt\n",
    "from sklearn.model_selection import train_test_split, GridSearchCV\n",
    "from sklearn.preprocessing import LabelEncoder, StandardScaler\n",
    "from sklearn.metrics import classification_report, confusion_matrix, accuracy_score, roc_auc_score\n",
    "from sklearn.linear_model import LogisticRegression\n",
    "from sklearn.ensemble import RandomForestClassifier\n",
    "import pickle"
   ]
  },
  {
   "cell_type": "code",
   "execution_count": null,
   "metadata": {},
   "outputs": [],
   "source": [
    "# 📌 Load Dataset\n",
    "df = pd.read_csv('small_hr_dataset.csv')\n",
    "df.head()"
   ]
  },
  {
   "cell_type": "code",
   "execution_count": null,
   "metadata": {},
   "outputs": [],
   "source": [
    "# 📌 Encode Categorical Variables\n",
    "categorical_cols = ['BusinessTravel', 'Department', 'EducationField', 'Gender', 'MaritalStatus', 'OverTime', 'Attrition']\n",
    "df['Attrition'] = df['Attrition'].map({'Yes': 1, 'No': 0})\n",
    "le = LabelEncoder()\n",
    "for col in categorical_cols[:-1]:\n",
    "    df[col] = le.fit_transform(df[col])\n",
    "df.head()"
   ]
  },
  {
   "cell_type": "code",
   "execution_count": null,
   "metadata": {},
   "outputs": [],
   "source": [
    "# 📌 EDA\n",
    "sns.countplot(x='Attrition', data=df)\n",
    "plt.title('Attrition Count')\n",
    "plt.show()\n",
    "plt.figure(figsize=(10,8))\n",
    "sns.heatmap(df.corr(), annot=True, cmap='coolwarm')\n",
    "plt.title('Correlation Heatmap')\n",
    "plt.show()\n",
    "sns.boxplot(x='Attrition', y='MonthlyIncome', data=df)\n",
    "plt.title('Monthly Income vs Attrition')\n",
    "plt.show()"
   ]
  },
  {
   "cell_type": "code",
   "execution_count": null,
   "metadata": {},
   "outputs": [],
   "source": [
    "# 📌 Scale Numerical Features\n",
    "num_cols = ['Age', 'DistanceFromHome', 'Education', 'EnvironmentSatisfaction',\n",
    "            'JobSatisfaction', 'MonthlyIncome', 'NumCompaniesWorked',\n",
    "            'PercentSalaryHike', 'PerformanceRating', 'TotalWorkingYears',\n",
    "            'YearsAtCompany']\n",
    "scaler = StandardScaler()\n",
    "df[num_cols] = scaler.fit_transform(df[num_cols])"
   ]
  },
  {
   "cell_type": "code",
   "execution_count": null,
   "metadata": {},
   "outputs": [],
   "source": [
    "# 📌 Train-Test Split\n",
    "X = df.drop('Attrition', axis=1)\n",
    "y = df['Attrition']\n",
    "X_train, X_test, y_train, y_test = train_test_split(X, y, test_size=0.2, stratify=y, random_state=42)"
   ]
  },
  {
   "cell_type": "code",
   "execution_count": null,
   "metadata": {},
   "outputs": [],
   "source": [
    "# 📌 Model Training\n",
    "# Logistic Regression\n",
    "lr = LogisticRegression(max_iter=1000)\n",
    "lr.fit(X_train, y_train)\n",
    "y_pred_lr = lr.predict(X_test)\n",
    "# Random Forest\n",
    "rf = RandomForestClassifier(random_state=42)\n",
    "rf.fit(X_train, y_train)\n",
    "y_pred_rf = rf.predict(X_test)"
   ]
  },
  {
   "cell_type": "code",
   "execution_count": null,
   "metadata": {},
   "outputs": [],
   "source": [
    "# 📌 Evaluation\n",
    "print('Logistic Regression:\n', classification_report(y_test, y_pred_lr))\n",
    "print('Accuracy:', accuracy_score(y_test, y_pred_lr))\n",
    "print('ROC-AUC:', roc_auc_score(y_test, lr.predict_proba(X_test)[:,1]))\n",
    "print('\nRandom Forest:\n', classification_report(y_test, y_pred_rf))\n",
    "print('Accuracy:', accuracy_score(y_test, y_pred_rf))\n",
    "print('ROC-AUC:', roc_auc_score(y_test, rf.predict_proba(X_test)[:,1]))\n",
    "# Confusion Matrix\n",
    "cm = confusion_matrix(y_test, y_pred_rf)\n",
    "sns.heatmap(cm, annot=True, fmt='d', cmap='Blues')\n",
    "plt.title('Random Forest Confusion Matrix')\n",
    "plt.xlabel('Predicted')\n",
    "plt.ylabel('Actual')\n",
    "plt.show()"
   ]
  },
  {
   "cell_type": "code",
   "execution_count": null,
   "metadata": {},
   "outputs": [],
   "source": [
    "# 📌 Feature Importance\n",
    "feat_imp = pd.Series(rf.feature_importances_, index=X.columns)\n",
    "feat_imp.nlargest(10).plot(kind='barh')\n",
    "plt.title('Top 10 Feature Importances - Random Forest')\n",
    "plt.show()"
   ]
  },
  {
   "cell_type": "code",
   "execution_count": null,
   "metadata": {},
   "outputs": [],
   "source": [
    "# 📌 Save Model and Scaler\n",
    "import pickle\n",
    "with open('attrition_rf_model.pkl', 'wb') as f:\n",
    "    pickle.dump(rf, f)\n",
    "with open('scaler.pkl', 'wb') as f:\n",
    "    pickle.dump(scaler, f)\n",
    "print('Model and scaler saved for Streamlit deployment.')"
   ]
  }
 ],
 "metadata": {
  "kernelspec": {
   "display_name": "Python 3",
   "language": "python",
   "name": "python3"
  },
  "language_info": {
   "name": "python",
   "version": ""
  }
 },
 "nbformat": 4,
 "nbformat_minor": 2
}